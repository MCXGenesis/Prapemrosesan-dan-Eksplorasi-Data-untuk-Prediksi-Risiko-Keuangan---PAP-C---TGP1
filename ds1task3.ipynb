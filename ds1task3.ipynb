{
 "cells": [
  {
   "cell_type": "markdown",
   "metadata": {},
   "source": [
    "### Transformasi dan Rekayasa Fitur untuk Kedua Dataset \n",
    "- Mengubah variabel kategorikal menjadi format numerik (misalnya, one-hot \n",
    "encoding, ordinal encoding, atau frequency encoding) untuk masing-masing \n",
    "dataset. \n",
    "- Melakukan normalisasi atau standarisasi fitur numerik jika diperlukan. \n",
    "- Menciptakan minimal satu fitur baru yang dapat meningkatkan kualitas dataset. \n",
    "- Menyusun laporan tentang dampak transformasi fitur terhadap dataset. \n"
   ]
  },
  {
   "cell_type": "code",
   "execution_count": null,
   "metadata": {},
   "outputs": [],
   "source": [
    "import numpy as np\n",
    "import pandas as pd\n",
    "import matplotlib.pyplot as plt\n",
    "import seaborn as sns\n",
    "plt.style.use('ggplot')\n",
    "pd.set_option('display.max_rows', None)\n",
    "pd.set_option('display.max_columns', None)"
   ]
  },
  {
   "cell_type": "code",
   "execution_count": null,
   "metadata": {},
   "outputs": [],
   "source": [
    "accepted = pd.read_csv('archive/accepted_2007_to_2018Q4.csv')\n",
    "rejected = pd.read_csv('archive/rejected_2007_to_2018Q4.csv')"
   ]
  },
  {
   "cell_type": "code",
   "execution_count": null,
   "metadata": {},
   "outputs": [],
   "source": [
    "accepted_desc = accepted.select_dtypes(include=['object'])\n",
    "accepted_desc.head()"
   ]
  },
  {
   "cell_type": "code",
   "execution_count": null,
   "metadata": {},
   "outputs": [],
   "source": [
    "accepted_desc.isnull().sum()   "
   ]
  },
  {
   "cell_type": "code",
   "execution_count": null,
   "metadata": {},
   "outputs": [],
   "source": [
    "# df.count() does not include NaN values\n",
    "accepted_desc2 = accepted_desc[[column for column in accepted_desc if accepted_desc[column].count() / len(accepted_desc) >= 0.3]]\n",
    "del accepted_desc2['id']\n",
    "print(\"List of dropped columns:\", end=\" \")\n",
    "for c in accepted_desc.columns:\n",
    "    if c not in accepted_desc2.columns:\n",
    "        print(c, end=\", \")\n",
    "print('\\n')\n",
    "accepted_desc = accepted_desc2"
   ]
  },
  {
   "cell_type": "code",
   "execution_count": null,
   "metadata": {},
   "outputs": [],
   "source": [
    "accepted_desc2.head()"
   ]
  }
 ],
 "metadata": {
  "language_info": {
   "name": "python"
  }
 },
 "nbformat": 4,
 "nbformat_minor": 2
}
