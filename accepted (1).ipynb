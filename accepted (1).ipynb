{
 "cells": [
  {
   "cell_type": "code",
   "execution_count": null,
   "metadata": {},
   "outputs": [],
   "source": [
    "# Import Library Python\n",
    "import numpy as np\n",
    "import pandas as pd\n",
    "import matplotlib.pyplot as plt\n",
    "import seaborn as sns"
   ]
  },
  {
   "cell_type": "code",
   "execution_count": null,
   "metadata": {},
   "outputs": [],
   "source": [
    "# the help() function is a built-in function that provides information about modules, classes, functions, and modules.\n",
    "help(plt.autumn)"
   ]
  },
  {
   "cell_type": "code",
   "execution_count": null,
   "metadata": {},
   "outputs": [],
   "source": [
    "pd.set_option('display.max_columns',None) # to see ALL COLUMNS in a DataFrame table. 'None' means there is no limit for displayed columns.\n",
    "# pd.set_option('display.max_rows',None) # to see ALL ROWS in a DataFrame table."
   ]
  },
  {
   "cell_type": "code",
   "execution_count": null,
   "metadata": {},
   "outputs": [],
   "source": [
    "accepted = pd.read_csv('archive/accepted_2007_to_2018Q4.csv.gz')\n",
    "accepted"
   ]
  },
  {
   "cell_type": "code",
   "execution_count": null,
   "metadata": {},
   "outputs": [],
   "source": [
    "rejected = pd.read_csv('archive/rejected_2007_to_2018Q4.csv.gz')\n",
    "rejected"
   ]
  },
  {
   "cell_type": "markdown",
   "metadata": {},
   "source": [
    "data sudah memiliki header, jadi tidak perlu melakukan perbaikan header"
   ]
  },
  {
   "cell_type": "code",
   "execution_count": null,
   "metadata": {},
   "outputs": [],
   "source": [
    "accepted.info()"
   ]
  },
  {
   "cell_type": "code",
   "execution_count": null,
   "metadata": {},
   "outputs": [],
   "source": [
    "rejected.info()"
   ]
  },
  {
   "cell_type": "code",
   "execution_count": null,
   "metadata": {},
   "outputs": [],
   "source": [
    "# Cek apakah terdapat baris yang kosong pada accepted\n",
    "pd.options.display.max_rows = None\n",
    "accepted.isnull().sum()\n"
   ]
  },
  {
   "cell_type": "code",
   "execution_count": null,
   "metadata": {},
   "outputs": [],
   "source": [
    "# Cek apakah terdapat baris yang kosong pada rejected\n",
    "pd.options.display.max_rows = None\n",
    "rejected.isnull().sum()"
   ]
  },
  {
   "cell_type": "code",
   "execution_count": null,
   "metadata": {},
   "outputs": [],
   "source": [
    "jumlah_baris_duplikat = accepted.duplicated().sum()\n",
    "print(\"Jumlah baris yang memiliki data sama: {} baris\".format(jumlah_baris_duplikat))"
   ]
  },
  {
   "cell_type": "code",
   "execution_count": null,
   "metadata": {},
   "outputs": [],
   "source": [
    "jumlah_baris_duplikat = rejected.duplicated().sum()\n",
    "print(\"Jumlah baris yang memiliki data sama: {} baris\".format(jumlah_baris_duplikat))"
   ]
  },
  {
   "cell_type": "code",
   "execution_count": null,
   "metadata": {},
   "outputs": [],
   "source": [
    "#melihat deskripsi dari fitur numerik\n",
    "print(accepted.describe())"
   ]
  },
  {
   "cell_type": "code",
   "execution_count": null,
   "metadata": {},
   "outputs": [],
   "source": [
    "#melihat deskripsi dari fitur numerik\n",
    "print(rejected.describe())"
   ]
  },
  {
   "cell_type": "code",
   "execution_count": null,
   "metadata": {},
   "outputs": [],
   "source": [
    "print(accepted.describe(include=['object']))"
   ]
  },
  {
   "cell_type": "code",
   "execution_count": null,
   "metadata": {},
   "outputs": [],
   "source": [
    "print(rejected.describe(include=['object']))"
   ]
  },
  {
   "cell_type": "code",
   "execution_count": null,
   "metadata": {},
   "outputs": [],
   "source": [
    "# Visualisasi distribusi variabel target (loan_status)\n",
    "plt.figure(figsize=(10, 5))\n",
    "sns.countplot(data=accepted, x=\"loan_status\", hue=\"loan_status\", palette=\"viridis\", \n",
    "              order=accepted[\"loan_status\"].value_counts().index, legend=False)\n",
    "plt.title(\"Distribusi Status Pinjaman\")\n",
    "plt.xticks(rotation=45)\n",
    "plt.show()"
   ]
  },
  {
   "cell_type": "code",
   "execution_count": null,
   "metadata": {},
   "outputs": [],
   "source": [
    "# Visualisasi distribusi variabel dti\n",
    "plt.figure(figsize=(10, 5))\n",
    "sns.histplot(data=accepted, x=\"dti\", color=\"purple\", bins=30, kde=True)\n",
    "plt.title(\"Distribusi dti\")\n",
    "plt.xlabel(\"dti\")\n",
    "plt.ylabel(\"Frekuensi\")\n",
    "plt.show()"
   ]
  },
  {
   "cell_type": "code",
   "execution_count": null,
   "metadata": {},
   "outputs": [],
   "source": [
    "# Visualisasi distribusi variabel int_rate\n",
    "plt.figure(figsize=(10, 5))\n",
    "sns.countplot(data=accepted, x=\"int_rate\", hue=\"dti\", palette=\"viridis\", \n",
    "              order=accepted[\"int_rate\"].value_counts().index, legend=False)\n",
    "plt.title(\"Distribusi int_rate\")\n",
    "plt.xticks(rotation=45)\n",
    "plt.show()"
   ]
  },
  {
   "cell_type": "code",
   "execution_count": null,
   "metadata": {},
   "outputs": [],
   "source": [
    "# Visualisasi distribusi variabel loan_amnt\n",
    "plt.figure(figsize=(10, 5))\n",
    "sns.countplot(data=accepted, x=\"loan_amnt\", hue=\"dti\", palette=\"viridis\", \n",
    "              order=accepted[\"loan_amnt\"].value_counts().index, legend=False)\n",
    "plt.title(\"Distribusi loan_amnt\")\n",
    "plt.xticks(rotation=45)\n",
    "plt.show()"
   ]
  },
  {
   "cell_type": "code",
   "execution_count": null,
   "metadata": {},
   "outputs": [],
   "source": [
    "# Visualisasi distribusi variabel Debt-To-Income Ratio\n",
    "plt.figure(figsize=(10, 5))\n",
    "sns.histplot(data=rejected, x=\"Debt-To-Income Ratio\", color=\"purple\", bins=30, kde=True)\n",
    "plt.title(\"Distribusi Debt-To-Income Ratio\")\n",
    "plt.xlabel(\"Debt-To-Income Ratio\")\n",
    "plt.ylabel(\"Frekuensi\")\n",
    "plt.show()"
   ]
  },
  {
   "cell_type": "code",
   "execution_count": null,
   "metadata": {},
   "outputs": [],
   "source": [
    "# Visualisasi distribusi variabel Employment Length\n",
    "plt.figure(figsize=(10, 5))\n",
    "sns.histplot(data=rejected, x=\"Employment Length\", color=\"purple\", bins=30, kde=True)\n",
    "plt.title(\"Distribusi Employment Length\")\n",
    "plt.xlabel(\"Employment Length\")\n",
    "plt.ylabel(\"Frekuensi\")\n",
    "plt.show()"
   ]
  },
  {
   "cell_type": "code",
   "execution_count": null,
   "metadata": {},
   "outputs": [],
   "source": [
    "# Visualisasi distribusi variabel State\n",
    "plt.figure(figsize=(10, 5))\n",
    "sns.histplot(data=rejected, x=\"State\", color=\"purple\", bins=30, kde=True)\n",
    "plt.title(\"Distribusi State\")\n",
    "plt.xlabel(\"State\")\n",
    "plt.ylabel(\"Frekuensi\")\n",
    "plt.show()"
   ]
  },
  {
   "cell_type": "markdown",
   "metadata": {},
   "source": [
    "INI ANGGOTA 2.  Penanganan Data yang Hilang dan Pembersihan Data untuk kedua Dataset"
   ]
  }
 ],
 "metadata": {
  "kernelspec": {
   "display_name": "Python 3",
   "language": "python",
   "name": "python3"
  },
  "language_info": {
   "codemirror_mode": {
    "name": "ipython",
    "version": 3
   },
   "file_extension": ".py",
   "mimetype": "text/x-python",
   "name": "python",
   "nbconvert_exporter": "python",
   "pygments_lexer": "ipython3",
   "version": "3.11.6"
  }
 },
 "nbformat": 4,
 "nbformat_minor": 2
}
