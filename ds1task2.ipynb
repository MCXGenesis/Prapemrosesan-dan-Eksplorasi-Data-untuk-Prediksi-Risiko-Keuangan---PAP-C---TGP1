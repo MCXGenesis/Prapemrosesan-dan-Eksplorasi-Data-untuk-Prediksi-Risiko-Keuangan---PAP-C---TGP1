{
 "cells": [
  {
   "cell_type": "code",
   "execution_count": 18,
   "metadata": {},
   "outputs": [],
   "source": [
    "# Import Library Python\n",
    "import numpy as np\n",
    "import pandas as pd\n",
    "import matplotlib.pyplot as plt\n",
    "import seaborn as sns"
   ]
  },
  {
   "cell_type": "code",
   "execution_count": 19,
   "metadata": {},
   "outputs": [
    {
     "name": "stdout",
     "output_type": "stream",
     "text": [
      "Help on function autumn in module matplotlib.pyplot:\n",
      "\n",
      "autumn() -> 'None'\n",
      "    Set the colormap to 'autumn'.\n",
      "\n",
      "    This changes the default colormap as well as the colormap of the current\n",
      "    image if there is one. See ``help(colormaps)`` for more information.\n",
      "\n"
     ]
    }
   ],
   "source": [
    "# the help() function is a built-in function that provides information about modules, classes, functions, and modules.\n",
    "help(plt.autumn)"
   ]
  },
  {
   "cell_type": "code",
   "execution_count": 20,
   "metadata": {},
   "outputs": [],
   "source": [
    "pd.set_option('display.max_columns',None) # to see ALL COLUMNS in a DataFrame table. 'None' means there is no limit for displayed columns.\n",
    "# pd.set_option('display.max_rows',None) # to see ALL ROWS in a DataFrame table."
   ]
  },
  {
   "cell_type": "markdown",
   "metadata": {},
   "source": [
    "Dataset 1"
   ]
  },
  {
   "cell_type": "code",
   "execution_count": 7,
   "metadata": {},
   "outputs": [],
   "source": [
    "dataset_path_1 = \"accepted.csv\"\n",
    "dataset_path_2 = \"rejected.csv\""
   ]
  },
  {
   "cell_type": "code",
   "execution_count": 8,
   "metadata": {},
   "outputs": [
    {
     "name": "stderr",
     "output_type": "stream",
     "text": [
      "C:\\Users\\STRIX\\AppData\\Local\\Temp\\ipykernel_23944\\2175878119.py:2: DtypeWarning: Columns (0,19,49,59,118,129,130,131,134,135,136,139,145,146,147) have mixed types. Specify dtype option on import or set low_memory=False.\n",
      "  df1 = pd.read_csv(dataset_path_1)\n"
     ]
    }
   ],
   "source": [
    "# Membaca dataset\n",
    "df1 = pd.read_csv(dataset_path_1)\n",
    "df2 = pd.read_csv(dataset_path_2)"
   ]
  },
  {
   "cell_type": "code",
   "execution_count": 9,
   "metadata": {},
   "outputs": [],
   "source": [
    "# Mengidentifikasi nilai yang hilang\n",
    "def missing_values_report(df, name):\n",
    "    missing_summary = df.isnull().sum()\n",
    "    missing_summary = missing_summary[missing_summary > 0]\n",
    "    \n",
    "    print(f\"Laporan Nilai Hilang untuk {name}:\")\n",
    "    print(missing_summary)\n",
    "    print(\"\\nPersentase nilai hilang per kolom:\")\n",
    "    print((df.isnull().mean() * 100).round(2))\n",
    "    print(\"=\"*50)"
   ]
  },
  {
   "cell_type": "code",
   "execution_count": 10,
   "metadata": {},
   "outputs": [
    {
     "name": "stdout",
     "output_type": "stream",
     "text": [
      "Laporan Nilai Hilang untuk Dataset 1:\n",
      "member_id                2260701\n",
      "loan_amnt                     33\n",
      "funded_amnt                   33\n",
      "funded_amnt_inv               33\n",
      "term                          33\n",
      "                          ...   \n",
      "settlement_status        2226455\n",
      "settlement_date          2226455\n",
      "settlement_amount        2226455\n",
      "settlement_percentage    2226455\n",
      "settlement_term          2226455\n",
      "Length: 150, dtype: int64\n",
      "\n",
      "Persentase nilai hilang per kolom:\n",
      "id                         0.00\n",
      "member_id                100.00\n",
      "loan_amnt                  0.00\n",
      "funded_amnt                0.00\n",
      "funded_amnt_inv            0.00\n",
      "                          ...  \n",
      "settlement_status         98.49\n",
      "settlement_date           98.49\n",
      "settlement_amount         98.49\n",
      "settlement_percentage     98.49\n",
      "settlement_term           98.49\n",
      "Length: 151, dtype: float64\n",
      "==================================================\n",
      "Laporan Nilai Hilang untuk Dataset 2:\n",
      "Loan Title               1305\n",
      "Risk_Score           18497630\n",
      "Zip Code                  293\n",
      "State                      22\n",
      "Employment Length      951355\n",
      "Policy Code               918\n",
      "dtype: int64\n",
      "\n",
      "Persentase nilai hilang per kolom:\n",
      "Amount Requested         0.00\n",
      "Application Date         0.00\n",
      "Loan Title               0.00\n",
      "Risk_Score              66.90\n",
      "Debt-To-Income Ratio     0.00\n",
      "Zip Code                 0.00\n",
      "State                    0.00\n",
      "Employment Length        3.44\n",
      "Policy Code              0.00\n",
      "dtype: float64\n",
      "==================================================\n"
     ]
    }
   ],
   "source": [
    "# Menampilkan laporan nilai yang hilang\n",
    "missing_values_report(df1, \"Dataset 1\")\n",
    "missing_values_report(df2, \"Dataset 2\")"
   ]
  },
  {
   "cell_type": "code",
   "execution_count": 11,
   "metadata": {},
   "outputs": [],
   "source": [
    "# Menangani nilai yang hilang\n",
    "def handle_missing_values(df, strategy=\"mean\"):\n",
    "    for column in df.columns:\n",
    "        if df[column].isnull().sum() > 0:\n",
    "            if df[column].dtype == 'object':  # Kategorikal\n",
    "                df[column].fillna(df[column].mode()[0], inplace=True)\n",
    "            else:  # Numerik\n",
    "                if strategy == \"mean\":\n",
    "                    df[column].fillna(df[column].mean(), inplace=True)\n",
    "                elif strategy == \"median\":\n",
    "                    df[column].fillna(df[column].median(), inplace=True)\n",
    "                elif strategy == \"drop\":\n",
    "                    df.dropna(subset=[column], inplace=True)\n",
    "    return df"
   ]
  },
  {
   "cell_type": "code",
   "execution_count": 12,
   "metadata": {},
   "outputs": [
    {
     "name": "stderr",
     "output_type": "stream",
     "text": [
      "C:\\Users\\STRIX\\AppData\\Local\\Temp\\ipykernel_23944\\433978708.py:9: FutureWarning: A value is trying to be set on a copy of a DataFrame or Series through chained assignment using an inplace method.\n",
      "The behavior will change in pandas 3.0. This inplace method will never work because the intermediate object on which we are setting values always behaves as a copy.\n",
      "\n",
      "For example, when doing 'df[col].method(value, inplace=True)', try using 'df.method({col: value}, inplace=True)' or df[col] = df[col].method(value) instead, to perform the operation inplace on the original object.\n",
      "\n",
      "\n",
      "  df[column].fillna(df[column].mean(), inplace=True)\n",
      "C:\\Users\\STRIX\\AppData\\Local\\Temp\\ipykernel_23944\\433978708.py:6: FutureWarning: A value is trying to be set on a copy of a DataFrame or Series through chained assignment using an inplace method.\n",
      "The behavior will change in pandas 3.0. This inplace method will never work because the intermediate object on which we are setting values always behaves as a copy.\n",
      "\n",
      "For example, when doing 'df[col].method(value, inplace=True)', try using 'df.method({col: value}, inplace=True)' or df[col] = df[col].method(value) instead, to perform the operation inplace on the original object.\n",
      "\n",
      "\n",
      "  df[column].fillna(df[column].mode()[0], inplace=True)\n"
     ]
    }
   ],
   "source": [
    "# Mengimputasi atau menghapus nilai yang hilang\n",
    "df1_cleaned = handle_missing_values(df1, strategy=\"mean\")\n",
    "df2_cleaned = handle_missing_values(df2, strategy=\"mean\")"
   ]
  },
  {
   "cell_type": "code",
   "execution_count": 14,
   "metadata": {},
   "outputs": [
    {
     "name": "stdout",
     "output_type": "stream",
     "text": [
      "Pembersihan data selesai. File telah disimpan.\n"
     ]
    }
   ],
   "source": [
    "# Menyimpan dataset yang sudah dibersihkan\n",
    "df1_cleaned.to_csv(\"accepted_cleaned.csv\", index=False)\n",
    "df2_cleaned.to_csv(\"rejected_cleaned.csv\", index=False)\n",
    "\n",
    "print(\"Pembersihan data selesai. File telah disimpan.\")"
   ]
  },
  {
   "cell_type": "code",
   "execution_count": 21,
   "metadata": {},
   "outputs": [],
   "source": [
    "dataset_path_3 = \"application_train.csv\"\n",
    "dataset_path_4 = \"application_test.csv\""
   ]
  },
  {
   "cell_type": "code",
   "execution_count": 22,
   "metadata": {},
   "outputs": [],
   "source": [
    "# Membaca dataset\n",
    "df3 = pd.read_csv(dataset_path_3)\n",
    "df4 = pd.read_csv(dataset_path_4)"
   ]
  },
  {
   "cell_type": "code",
   "execution_count": 23,
   "metadata": {},
   "outputs": [],
   "source": [
    "# Mengidentifikasi nilai yang hilang\n",
    "def missing_values_report(df, name):\n",
    "    missing_summary = df.isnull().sum()\n",
    "    missing_summary = missing_summary[missing_summary > 0]\n",
    "    \n",
    "    print(f\"Laporan Nilai Hilang untuk {name}:\")\n",
    "    print(missing_summary)\n",
    "    print(\"\\nPersentase nilai hilang per kolom:\")\n",
    "    print((df.isnull().mean() * 100).round(2))\n",
    "    print(\"=\"*50)"
   ]
  },
  {
   "cell_type": "code",
   "execution_count": 24,
   "metadata": {},
   "outputs": [
    {
     "name": "stdout",
     "output_type": "stream",
     "text": [
      "Laporan Nilai Hilang untuk Dataset 3:\n",
      "AMT_ANNUITY                       12\n",
      "AMT_GOODS_PRICE                  278\n",
      "NAME_TYPE_SUITE                 1292\n",
      "OWN_CAR_AGE                   202929\n",
      "OCCUPATION_TYPE                96391\n",
      "                               ...  \n",
      "AMT_REQ_CREDIT_BUREAU_DAY      41519\n",
      "AMT_REQ_CREDIT_BUREAU_WEEK     41519\n",
      "AMT_REQ_CREDIT_BUREAU_MON      41519\n",
      "AMT_REQ_CREDIT_BUREAU_QRT      41519\n",
      "AMT_REQ_CREDIT_BUREAU_YEAR     41519\n",
      "Length: 67, dtype: int64\n",
      "\n",
      "Persentase nilai hilang per kolom:\n",
      "SK_ID_CURR                     0.0\n",
      "TARGET                         0.0\n",
      "NAME_CONTRACT_TYPE             0.0\n",
      "CODE_GENDER                    0.0\n",
      "FLAG_OWN_CAR                   0.0\n",
      "                              ... \n",
      "AMT_REQ_CREDIT_BUREAU_DAY     13.5\n",
      "AMT_REQ_CREDIT_BUREAU_WEEK    13.5\n",
      "AMT_REQ_CREDIT_BUREAU_MON     13.5\n",
      "AMT_REQ_CREDIT_BUREAU_QRT     13.5\n",
      "AMT_REQ_CREDIT_BUREAU_YEAR    13.5\n",
      "Length: 122, dtype: float64\n",
      "==================================================\n",
      "Laporan Nilai Hilang untuk Dataset 4:\n",
      "AMT_ANNUITY                      24\n",
      "NAME_TYPE_SUITE                 911\n",
      "OWN_CAR_AGE                   32312\n",
      "OCCUPATION_TYPE               15605\n",
      "EXT_SOURCE_1                  20532\n",
      "                              ...  \n",
      "AMT_REQ_CREDIT_BUREAU_DAY      6049\n",
      "AMT_REQ_CREDIT_BUREAU_WEEK     6049\n",
      "AMT_REQ_CREDIT_BUREAU_MON      6049\n",
      "AMT_REQ_CREDIT_BUREAU_QRT      6049\n",
      "AMT_REQ_CREDIT_BUREAU_YEAR     6049\n",
      "Length: 64, dtype: int64\n",
      "\n",
      "Persentase nilai hilang per kolom:\n",
      "SK_ID_CURR                     0.00\n",
      "NAME_CONTRACT_TYPE             0.00\n",
      "CODE_GENDER                    0.00\n",
      "FLAG_OWN_CAR                   0.00\n",
      "FLAG_OWN_REALTY                0.00\n",
      "                              ...  \n",
      "AMT_REQ_CREDIT_BUREAU_DAY     12.41\n",
      "AMT_REQ_CREDIT_BUREAU_WEEK    12.41\n",
      "AMT_REQ_CREDIT_BUREAU_MON     12.41\n",
      "AMT_REQ_CREDIT_BUREAU_QRT     12.41\n",
      "AMT_REQ_CREDIT_BUREAU_YEAR    12.41\n",
      "Length: 121, dtype: float64\n",
      "==================================================\n"
     ]
    }
   ],
   "source": [
    "# Menampilkan laporan nilai yang hilang\n",
    "missing_values_report(df3, \"Dataset 3\")\n",
    "missing_values_report(df4, \"Dataset 4\")"
   ]
  },
  {
   "cell_type": "code",
   "execution_count": 25,
   "metadata": {},
   "outputs": [],
   "source": [
    "# Menangani nilai yang hilang\n",
    "def handle_missing_values(df, strategy=\"mean\"):\n",
    "    for column in df.columns:\n",
    "        if df[column].isnull().sum() > 0:\n",
    "            if df[column].dtype == 'object':  # Kategorikal\n",
    "                df[column].fillna(df[column].mode()[0], inplace=True)\n",
    "            else:  # Numerik\n",
    "                if strategy == \"mean\":\n",
    "                    df[column].fillna(df[column].mean(), inplace=True)\n",
    "                elif strategy == \"median\":\n",
    "                    df[column].fillna(df[column].median(), inplace=True)\n",
    "                elif strategy == \"drop\":\n",
    "                    df.dropna(subset=[column], inplace=True)\n",
    "    return df"
   ]
  },
  {
   "cell_type": "code",
   "execution_count": 30,
   "metadata": {},
   "outputs": [],
   "source": [
    "# Mengimputasi atau menghapus nilai yang hilang\n",
    "df3_cleaned = handle_missing_values(df3, strategy=\"mean\")\n",
    "df4_cleaned = handle_missing_values(df4, strategy=\"mean\")"
   ]
  },
  {
   "cell_type": "code",
   "execution_count": 32,
   "metadata": {},
   "outputs": [
    {
     "name": "stdout",
     "output_type": "stream",
     "text": [
      "Pembersihan data selesai. File telah disimpan.\n"
     ]
    }
   ],
   "source": [
    "# Menyimpan dataset yang sudah dibersihkan\n",
    "df3_cleaned.to_csv(\"application_test_cleaned.csv\", index=False)\n",
    "df4_cleaned.to_csv(\"application_train_cleaned.csv\", index=False)\n",
    "\n",
    "print(\"Pembersihan data selesai. File telah disimpan.\")"
   ]
  }
 ],
 "metadata": {
  "kernelspec": {
   "display_name": "Python 3",
   "language": "python",
   "name": "python3"
  },
  "language_info": {
   "codemirror_mode": {
    "name": "ipython",
    "version": 3
   },
   "file_extension": ".py",
   "mimetype": "text/x-python",
   "name": "python",
   "nbconvert_exporter": "python",
   "pygments_lexer": "ipython3",
   "version": "3.13.2"
  }
 },
 "nbformat": 4,
 "nbformat_minor": 2
}
